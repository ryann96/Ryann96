{
 "cells": [
  {
   "cell_type": "markdown",
   "metadata": {},
   "source": [
    "---\n",
    "layout: post\n",
    "title: HTML\n",
    "description: HTML Hacks from Teacher Respository\n",
    "courses: { csse: {week: 6}, csp: {week: 6}, compsci: {week: 6}}\n",
    "type: hacks\n",
    "permalink: /basics/home\n",
    "---"
   ]
  },
  {
   "cell_type": "code",
   "execution_count": null,
   "metadata": {},
   "outputs": [],
   "source": [
    "%%html\n",
    "<div>\n",
    "    <p>This is the first paragarph of section 1</p>\n",
    "    <button>some button text</button>\n",
    "</div>\n",
    "\n",
    "<div>\n",
    "    <a href=\"https://ryann96.github.io/Ryann96//2023/09/05/Week_0_Plans.html\">link text</a>\n",
    "    <a href=\"https://ryann96.github.io/Ryann96//2023/09/05/Week_0_Progress.html\">link text</a>\n",
    "    <p>This is the first paragarph of section 2</p>\n",
    "</div>"
   ]
  }
 ],
 "metadata": {
  "language_info": {
   "name": "python"
  },
  "orig_nbformat": 4
 },
 "nbformat": 4,
 "nbformat_minor": 2
}
