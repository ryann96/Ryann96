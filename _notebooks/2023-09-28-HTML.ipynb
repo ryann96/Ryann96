{
 "cells": [
  {
   "cell_type": "markdown",
   "metadata": {},
   "source": [
    "---\n",
    "layout: post\n",
    "title: HTML\n",
    "description: HTML Hacks from Teacher Respository\n",
    "courses: { csse: {week: 6}, csp: {week: 6}, compsci: {week: 6}}\n",
    "type: hacks\n",
    "permalink: /basics/home\n",
    "---"
   ]
  },
  {
   "cell_type": "code",
   "execution_count": null,
   "metadata": {},
   "outputs": [],
   "source": [
    "%%html\n",
    "<div>\n",
    "    <p>This a test of paragraph 1.</p>\n",
    "    <button> This is a test button</button>\n",
    "</div>\n",
    "\n",
    "<div>\n",
    "    <a href=\"https://ryann96.github.io/Ryann96//2023/09/05/Week_0_Plans.html\">link text</a>\n",
    "    <a href=\"https://ryann96.github.io/Ryann96//2023/09/05/Week_0_Progress.html\">link text</a>\n",
    "    <p>This is a test of paragraph 2.</p>\n",
    "</div>"
   ]
  }
 ],
 "metadata": {
  "language_info": {
   "name": "python"
  },
  "orig_nbformat": 4
 },
 "nbformat": 4,
 "nbformat_minor": 2
}
