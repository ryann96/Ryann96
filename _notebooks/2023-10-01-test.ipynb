{
 "cells": [
  {
   "cell_type": "code",
   "execution_count": 1,
   "metadata": {},
   "outputs": [
    {
     "data": {
      "text/html": [
       "<!-- the ID must be specified within the element -->\n",
       "<h1 id=\"domTitleID\">My Title</h1>\n",
       "\n",
       "<!-- javascript goes here -->\n",
       "<script>\n",
       "var titleElement = document.getElementById(\"domTitleID\")\n",
       "<!-- outputs h1 tag -->\n",
       "console.log(\"Example #1, show element in DOM\")\n",
       "console.log(titleElement)\n",
       "</script>\n"
      ],
      "text/plain": [
       "<IPython.core.display.HTML object>"
      ]
     },
     "metadata": {},
     "output_type": "display_data"
    }
   ],
   "source": [
    "<style>\n",
    "  .body{\n",
    "    align-content: center;\n",
    "    background-image: ;\n",
    "  }\n",
    "</style>\n",
    "<head>\n",
    "    <div>\n",
    "      <h1 id=\"top\"> SPIDERMAN VS IRONMAN </h1>\n",
    "      <p id=\"hello\">By: Soni Dhenuva</p>\n",
    "      <br>\n",
    "      <button id=\"button\" class=\"btn btn-primary\"> STAPH </button>\n",
    "    </div>\n",
    "    </head>\n",
    "<body id=\"body\" background=\"{{site.baseurl}}/images/background1.jpg\">\n",
    "    <div>\n",
    "      <!-- <iframe width =\"560\" height=\"315\" src=\"https://youtu.be/zGY54qKHjuE?si=_OUhghW3Ri8-SGWc\" frameborder=\"0\" allowfullscreen> </iframe> -->\n",
    "      <br>\n",
    "      <a href=\"https://youtu.be/zGY54qKHjuE?si=_OUhghW3Ri8-SGWc\" id=\"spiderman\"> SPIDERMAN </a>\n",
    "      <br>\n",
    "      <img src=\"{{site.baseurl}}/images/Spiderman.jpg\">\n",
    "      <br>\n",
    "      <br>\n",
    "      <p> V.S </p>\n",
    "      <br>\n",
    "      <!-- <iframe width =\"560\" height=\"315\" src=\"https://youtu.be/naSe2x0-VUw?si=9eraMJAb1gETJnnI\" frameborder=\"0\" allowfullscreen> </iframe> -->\n",
    "      <a href=\"https://youtu.be/naSe2x0-VUw?si=9eraMJAb1gETJnnI\" id=\"ironman\"> IRONMAN </a>\n",
    "      <img src=\"{{site.baseurl}}/images/ironman.jpg\">\n",
    "      </div>\n",
    "</body>\n",
    "<script>\n",
    "  const link1 = document.querySelector('a[href=\"https://youtu.be/zGY54qKHjuE?si=_OUhghW3Ri8-SGWc\"]');\n",
    "  const link2 = document.querySelector('a[href=\"https://youtu.be/naSe2x0-VUw?si=9eraMJAb1gETJnnI\"]');\n",
    "  const button = document.getElementById('button');\n",
    "  button.addEventListener('click', function () {\n",
    "    if (link1.href === 'https://youtu.be/zGY54qKHjuE?si=_OUhghW3Ri8-SGWc' ) {\n",
    "      link1.href = 'https://youtu.be/naSe2x0-VUw?si=9eraMJAb1gETJnnI';\n",
    "      link2.href = 'https://youtu.be/zGY54qKHjuE?si=_OUhghW3Ri8-SGWc';\n",
    "      document.getElementById(\"hello\").innerHTML = \"SWITCHED\"\n",
    "    } else {\n",
    "      link1.href = 'https://youtu.be/zGY54qKHjuE?si=_OUhghW3Ri8-SGWc';\n",
    "      link2.href = 'https://youtu.be/naSe2x0-VUw?si=9eraMJAb1gETJnnI';\n",
    "      document.getElementById(\"hello\").innerHTML = \"SWITCHED\"\n",
    "    }\n",
    "  });\n",
    "</script>"
   ]
  }
 ],
 "metadata": {
  "kernelspec": {
   "display_name": "Python 3",
   "language": "python",
   "name": "python3"
  },
  "language_info": {
   "codemirror_mode": {
    "name": "ipython",
    "version": 3
   },
   "file_extension": ".py",
   "mimetype": "text/x-python",
   "name": "python",
   "nbconvert_exporter": "python",
   "pygments_lexer": "ipython3",
   "version": "3.11.4"
  },
  "orig_nbformat": 4
 },
 "nbformat": 4,
 "nbformat_minor": 2
}
