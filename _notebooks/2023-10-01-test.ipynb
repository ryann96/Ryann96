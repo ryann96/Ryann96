{
 "cells": [
  {
   "cell_type": "code",
   "execution_count": 1,
   "metadata": {},
   "outputs": [
    {
     "data": {
      "text/html": [
       "<!-- the ID must be specified within the element -->\n",
       "<h1 id=\"domTitleID\">My Title</h1>\n",
       "\n",
       "<!-- javascript goes here -->\n",
       "<script>\n",
       "var titleElement = document.getElementById(\"domTitleID\")\n",
       "<!-- outputs h1 tag -->\n",
       "console.log(\"Example #1, show element in DOM\")\n",
       "console.log(titleElement)\n",
       "</script>\n"
      ],
      "text/plain": [
       "<IPython.core.display.HTML object>"
      ]
     },
     "metadata": {},
     "output_type": "display_data"
    }
   ],
   "source": [
    "%%html\n",
    "<!-- the ID must be specified on the element -->\n",
    "<div id=\"divContainerID\">\n",
    "    <h1 id=\"h1ElementID\">My Title</h1>\n",
    "</div>\n",
    "\n",
    "<!-- javascript goes here -->\n",
    "<script>\n",
    "   // creates a new element\n",
    "   var pElement = document.createElement(\"p\")\n",
    "   pElement.innerHTML = \"Starting a paragraph of text.\"\n",
    "   \n",
    "   // outputs p tag after it has been created\n",
    "   console.log(\"Example #4, create a p tag within JS\")\n",
    "   console.log(pElement)\n",
    "</script>"
   ]
  }
 ],
 "metadata": {
  "kernelspec": {
   "display_name": "Python 3",
   "language": "python",
   "name": "python3"
  },
  "language_info": {
   "codemirror_mode": {
    "name": "ipython",
    "version": 3
   },
   "file_extension": ".py",
   "mimetype": "text/x-python",
   "name": "python",
   "nbconvert_exporter": "python",
   "pygments_lexer": "ipython3",
   "version": "3.11.4"
  },
  "orig_nbformat": 4
 },
 "nbformat": 4,
 "nbformat_minor": 2
}
