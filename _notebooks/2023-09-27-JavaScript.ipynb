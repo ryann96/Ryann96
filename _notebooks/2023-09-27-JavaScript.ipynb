{
 "cells": [
  {
   "cell_type": "markdown",
   "metadata": {},
   "source": [
    "---\n",
    "layout: post\n",
    "title: JavaScript\n",
    "description: Javascript Hacks from Teacher Respository\n",
    "courses: { csse: {week: 6}, csp: {week: 6}, compsci: {week: 6}}\n",
    "type: hacks\n",
    "permalink: /basics/home\n",
    "---"
   ]
  },
  {
   "cell_type": "code",
   "execution_count": null,
   "metadata": {},
   "outputs": [],
   "source": [
    "%%js\n",
    "// Define two variables a and b\n",
    "var a = 10;\n",
    "var b = 5;\n",
    "\n",
    "// Compare the values of a and b\n",
    "if (a > b) {\n",
    "    console.log(\"a is greater\");\n",
    "} else if (a < b) {\n",
    "    console.log(\"b is greater\");\n",
    "} else {\n",
    "    console.log(\"both are equal\");\n",
    "}"
   ]
  }
 ],
 "metadata": {
  "language_info": {
   "name": "python"
  },
  "orig_nbformat": 4
 },
 "nbformat": 4,
 "nbformat_minor": 2
}
