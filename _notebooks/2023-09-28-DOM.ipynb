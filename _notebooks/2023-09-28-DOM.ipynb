{
 "cells": [
  {
   "cell_type": "markdown",
   "metadata": {},
   "source": [
    "---\n",
    "layout: post\n",
    "title: DOM\n",
    "description: DOM Hacks from Teacher Respository\n",
    "courses: { csse: {week: 6}, csp: {week: 6}, compsci: {week: 6}}\n",
    "type: hacks\n",
    "permalink: /basics/home\n",
    "---"
   ]
  },
  {
   "cell_type": "code",
   "execution_count": null,
   "metadata": {},
   "outputs": [],
   "source": []
  }
 ],
 "metadata": {
  "language_info": {
   "name": "python"
  },
  "orig_nbformat": 4
 },
 "nbformat": 4,
 "nbformat_minor": 2
}
